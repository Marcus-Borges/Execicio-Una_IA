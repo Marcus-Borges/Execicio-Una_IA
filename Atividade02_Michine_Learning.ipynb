{
  "nbformat": 4,
  "nbformat_minor": 0,
  "metadata": {
    "colab": {
      "provenance": [],
      "authorship_tag": "ABX9TyMRYY4kSi3y2liJ5HcSvHxe",
      "include_colab_link": true
    },
    "kernelspec": {
      "name": "python3",
      "display_name": "Python 3"
    },
    "language_info": {
      "name": "python"
    }
  },
  "cells": [
    {
      "cell_type": "markdown",
      "metadata": {
        "id": "view-in-github",
        "colab_type": "text"
      },
      "source": [
        "<a href=\"https://colab.research.google.com/github/Marcus-Borges/Execicio-Una_IA/blob/main/Atividade02_Michine_Learning.ipynb\" target=\"_parent\"><img src=\"https://colab.research.google.com/assets/colab-badge.svg\" alt=\"Open In Colab\"/></a>"
      ]
    },
    {
      "cell_type": "code",
      "execution_count": 10,
      "metadata": {
        "colab": {
          "base_uri": "https://localhost:8080/"
        },
        "id": "Ey5wRc2Gj1TQ",
        "outputId": "b2b0cfab-bbf3-4fb1-b4a7-dc3ff78c3312"
      },
      "outputs": [
        {
          "output_type": "stream",
          "name": "stdout",
          "text": [
            "<class 'pandas.core.frame.DataFrame'>\n",
            "RangeIndex: 150 entries, 0 to 149\n",
            "Data columns (total 5 columns):\n",
            " #   Column        Non-Null Count  Dtype  \n",
            "---  ------        --------------  -----  \n",
            " 0   Sepal_Length  150 non-null    float64\n",
            " 1   Sepal_Width   150 non-null    float64\n",
            " 2   Petal_Length  150 non-null    float64\n",
            " 3   Petal_Width   150 non-null    float64\n",
            " 4   Species       150 non-null    object \n",
            "dtypes: float64(4), object(1)\n",
            "memory usage: 6.0+ KB\n",
            "     Sepal_Length  Sepal_Width  Petal_Length  Petal_Width\n",
            "0             5.1          3.5           1.4          0.2\n",
            "1             4.9          3.0           1.4          0.2\n",
            "2             4.7          3.2           1.3          0.2\n",
            "3             4.6          3.1           1.5          0.2\n",
            "4             5.0          3.6           1.4          0.2\n",
            "..            ...          ...           ...          ...\n",
            "145           6.7          3.0           5.2          2.3\n",
            "146           6.3          2.5           5.0          1.9\n",
            "147           6.5          3.0           5.2          2.0\n",
            "148           6.2          3.4           5.4          2.3\n",
            "149           5.9          3.0           5.1          1.8\n",
            "\n",
            "[150 rows x 4 columns]\n",
            "Acurácia com KNN: 1.0\n",
            "Matriz de Confusão com KNN:\n",
            " [[19  0  0]\n",
            " [ 0 13  0]\n",
            " [ 0  0 13]]\n"
          ]
        }
      ],
      "source": [
        "# Passo 1 - Importando as bibliotecas necessárias\n",
        "import pandas as pd\n",
        "from sklearn.model_selection import train_test_split\n",
        "from sklearn.neighbors import KNeighborsClassifier\n",
        "from sklearn.metrics import confusion_matrix, accuracy_score\n",
        "from sklearn.tree import DecisionTreeClassifier\n",
        "\n",
        "# Passo 2 - Importar os dados\n",
        "csv_url = 'https://archive.ics.uci.edu/ml/machine-learning-databases/iris/iris.data'\n",
        "col_names = ['Sepal_Length', 'Sepal_Width', 'Petal_Length', 'Petal_Width', 'Species']\n",
        "iris = pd.read_csv(csv_url, names=col_names, header=None)\n",
        "\n",
        "# Passo 3 - Explorar os dados\n",
        "# Visualizar informações, formato, classes únicas e converter a variável alvo para valores numéricos\n",
        "iris.info()\n",
        "iris.tail()\n",
        "iris.shape\n",
        "#Mostra as classes\n",
        "iris['Species'].unique()\n",
        "# Convertendo o atributo de String para Inteiro\n",
        "iris['Species_codigo'] = iris['Species'].apply(lambda x: 0 if x == 'Iris-setosa' else 1 if x == 'Iris-versicolor' else 2)\n",
        "iris.head()\n",
        "\n",
        "# Passo 4 - Dividir o Dataset\n",
        "y = iris['Species_codigo']\n",
        "x = iris.iloc[:, 0:4]\n",
        "x_train, x_test, y_train, y_test = train_test_split(x, y, test_size=0.3, random_state=42)\n",
        "x.shape\n",
        "y.shape\n",
        "print(x)\n",
        "\n",
        "# Passo 5 - Algoritmo Classificador (treino) com KNN\n",
        "knn = KNeighborsClassifier(n_neighbors=3)\n",
        "knn.fit(x_train, y_train)\n",
        "\n",
        "# Passo 6 - Algoritmo Classificador (predição) com KNN\n",
        "y_pred_knn = knn.predict(x_test)\n",
        "\n",
        "# Passo 7 - Acurácia com KNN\n",
        "accuracy_knn = accuracy_score(y_test, y_pred_knn)\n",
        "print(\"Acurácia com KNN:\", accuracy_knn)\n",
        "# score = knn.score(x_test, y_test)\n",
        "# print(f\"Acurácia do modelo: {score * 100:.2f}%\")\n",
        "\n",
        "# Passo 8 - Matriz de Confusão com KNN\n",
        "conf_matrix_knn = confusion_matrix(y_test, y_pred_knn)\n",
        "print(\"Matriz de Confusão com KNN:\\n\", conf_matrix_knn)\n"
      ]
    },
    {
      "cell_type": "code",
      "source": [
        "# Treinando e avaliando uma Árvore de Decisão\n",
        "\n",
        "# Passo 5 - Algoritmo Classificador (treino) com Árvore de Decisão\n",
        "dt = DecisionTreeClassifier(random_state=42)\n",
        "dt.fit(x_train, y_train)\n",
        "\n",
        "# Passo 6 - Algoritmo Classificador (predição) com Árvore de Decisão\n",
        "y_pred_dt = dt.predict(x_test)\n",
        "\n",
        "# Passo 7 - Acurácia com Árvore de Decisão\n",
        "accuracy_dt = accuracy_score(y_test, y_pred_dt)\n",
        "print(\"Acurácia com Árvore de Decisão:\", accuracy_dt)\n",
        "\n",
        "# Passo 8 - Matriz de Confusão com Árvore de Decisão\n",
        "conf_matrix_dt = confusion_matrix(y_test, y_pred_dt)\n",
        "print(\"Matriz de Confusão com Árvore de Decisão:\\n\", conf_matrix_dt)\n"
      ],
      "metadata": {
        "colab": {
          "base_uri": "https://localhost:8080/"
        },
        "id": "Xg5xopkqkCk3",
        "outputId": "70932016-a92e-46ea-9d2c-2982cbb9ee17"
      },
      "execution_count": 2,
      "outputs": [
        {
          "output_type": "stream",
          "name": "stdout",
          "text": [
            "Acurácia com Árvore de Decisão: 1.0\n",
            "Matriz de Confusão com Árvore de Decisão:\n",
            " [[19  0  0]\n",
            " [ 0 13  0]\n",
            " [ 0  0 13]]\n"
          ]
        }
      ]
    }
  ]
}