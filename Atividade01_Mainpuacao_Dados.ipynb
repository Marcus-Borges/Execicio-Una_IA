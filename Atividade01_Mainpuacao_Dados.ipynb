{
  "nbformat": 4,
  "nbformat_minor": 0,
  "metadata": {
    "colab": {
      "provenance": [],
      "authorship_tag": "ABX9TyOwSVKFcYQUbgNR3mdtUdyU",
      "include_colab_link": true
    },
    "kernelspec": {
      "name": "python3",
      "display_name": "Python 3"
    },
    "language_info": {
      "name": "python"
    }
  },
  "cells": [
    {
      "cell_type": "markdown",
      "metadata": {
        "id": "view-in-github",
        "colab_type": "text"
      },
      "source": [
        "<a href=\"https://colab.research.google.com/github/Marcus-Borges/Execicio-Una_IA/blob/main/Atividade01_Mainpuacao_Dados.ipynb\" target=\"_parent\"><img src=\"https://colab.research.google.com/assets/colab-badge.svg\" alt=\"Open In Colab\"/></a>"
      ]
    },
    {
      "cell_type": "code",
      "execution_count": 1,
      "metadata": {
        "colab": {
          "base_uri": "https://localhost:8080/"
        },
        "id": "uqXCLiDmZqp5",
        "outputId": "1d391c57-df7f-45bb-b7dd-5720e14a1184"
      },
      "outputs": [
        {
          "output_type": "stream",
          "name": "stdout",
          "text": [
            "A Média das idades é igual a 33.08\n"
          ]
        }
      ],
      "source": [
        "# Função para calcular a média das idades\n",
        "def calcular_media(lista):\n",
        "    media = sum(lista) / len(lista)\n",
        "    print(f\"A Média das idades é igual a {media:.2f}\")\n",
        "\n",
        "# Lista de idades fornecida\n",
        "idades = [24, 23, 45, 33, 24, 33, 42, 38, 33, 45, 24, 33]\n",
        "\n",
        "# Chamada da função\n",
        "calcular_media(idades)\n"
      ]
    },
    {
      "cell_type": "code",
      "source": [
        "import pandas as pd\n",
        "\n",
        "# Função para calcular a distribuição de frequência\n",
        "def distribuicao_frequencia(lista):\n",
        "    df = pd.DataFrame(lista, columns=['Idades'])\n",
        "    frequencia = df['Idades'].value_counts().sort_index()\n",
        "    return frequencia\n",
        "\n",
        "# Chamada da função\n",
        "frequencia = distribuicao_frequencia(idades)\n",
        "print(frequencia)\n"
      ],
      "metadata": {
        "colab": {
          "base_uri": "https://localhost:8080/"
        },
        "id": "NYvn27UHZxLi",
        "outputId": "c396f10a-5dbd-4007-ebb5-31c77c6456e7"
      },
      "execution_count": 2,
      "outputs": [
        {
          "output_type": "stream",
          "name": "stdout",
          "text": [
            "Idades\n",
            "23    1\n",
            "24    3\n",
            "33    4\n",
            "38    1\n",
            "42    1\n",
            "45    2\n",
            "Name: count, dtype: int64\n"
          ]
        }
      ]
    },
    {
      "cell_type": "code",
      "source": [
        "import matplotlib.pyplot as plt\n",
        "\n",
        "# Função para plotar o gráfico de distribuição de frequência\n",
        "def plotar_grafico_frequencia(frequencia):\n",
        "    frequencia.plot(kind='bar', color='skyblue')\n",
        "    plt.title(\"Distribuição de Frequência das Idades\")\n",
        "    plt.xlabel(\"Idades\")\n",
        "    plt.ylabel(\"Frequência\")\n",
        "    plt.show()\n",
        "\n",
        "# Chamada da função para exibir o gráfico\n",
        "plotar_grafico_frequencia(frequencia)\n"
      ],
      "metadata": {
        "colab": {
          "base_uri": "https://localhost:8080/",
          "height": 476
        },
        "id": "XlupgaC-Zzuu",
        "outputId": "643ef1a2-745c-49de-cd9a-783bb2ed99e8"
      },
      "execution_count": 3,
      "outputs": [
        {
          "output_type": "display_data",
          "data": {
            "text/plain": [
              "<Figure size 640x480 with 1 Axes>"
            ],
            "image/png": "[encoded data removed]"
          },
          "metadata": {}
        }
      ]
    }
  ]
}